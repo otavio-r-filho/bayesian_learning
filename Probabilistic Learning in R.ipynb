{
 "cells": [
  {
   "cell_type": "markdown",
   "metadata": {},
   "source": [
    "# Probabilistic Learning\n",
    "\n",
    "<center><img src=\"images/bayes_net_example.png\" width=50%></center>"
   ]
  },
  {
   "cell_type": "code",
   "execution_count": 10,
   "metadata": {},
   "outputs": [
    {
     "name": "stderr",
     "output_type": "stream",
     "text": [
      "Parsed with column specification:\n",
      "cols(\n",
      "  .default = col_double()\n",
      ")\n",
      "See spec(...) for full column specifications.\n",
      "Parsed with column specification:\n",
      "cols(\n",
      "  .default = col_double()\n",
      ")\n",
      "See spec(...) for full column specifications.\n",
      "Parsed with column specification:\n",
      "cols(\n",
      "  .default = col_double()\n",
      ")\n",
      "See spec(...) for full column specifications.\n",
      "Parsed with column specification:\n",
      "cols(\n",
      "  .default = col_double()\n",
      ")\n",
      "See spec(...) for full column specifications.\n"
     ]
    }
   ],
   "source": [
    "# Loading necessary libraries and datasets\n",
    "library(ggplot2, warn.conflicts = F)\n",
    "library(dplyr, warn.conflicts = F)\n",
    "library(tidyr, warn.conflicts = F)\n",
    "library(readr, warn.conflicts = F)\n",
    "\n",
    "# Loading the dataset\n",
    "mitbih_test = read_csv(\"datasets/heartbeat/mitbih_test.csv\", col_names = F)\n",
    "mitbih_train = read_csv(\"datasets/heartbeat/mitbih_train.csv\", col_names = F)\n",
    "ptbdb_abnormal = read_csv(\"datasets/heartbeat/ptbdb_abnormal.csv\", col_names = F)\n",
    "ptbdb_normal = read_csv(\"datasets/heartbeat/ptbdb_normal.csv\", col_names = F)"
   ]
  },
  {
   "cell_type": "code",
   "execution_count": 13,
   "metadata": {},
   "outputs": [
    {
     "data": {
      "text/html": [
       "188"
      ],
      "text/latex": [
       "188"
      ],
      "text/markdown": [
       "188"
      ],
      "text/plain": [
       "[1] 188"
      ]
     },
     "metadata": {},
     "output_type": "display_data"
    }
   ],
   "source": [
    "mitbih_test_X <- mitbih_test[ncol]"
   ]
  }
 ],
 "metadata": {
  "kernelspec": {
   "display_name": "R",
   "language": "R",
   "name": "ir"
  },
  "language_info": {
   "codemirror_mode": "r",
   "file_extension": ".r",
   "mimetype": "text/x-r-source",
   "name": "R",
   "pygments_lexer": "r",
   "version": "3.5.1"
  }
 },
 "nbformat": 4,
 "nbformat_minor": 2
}
